{
  "nbformat": 4,
  "nbformat_minor": 0,
  "metadata": {
    "colab": {
      "name": "ASSIGNMENT 1 ,IOT",
      "provenance": [],
      "toc_visible": true
    },
    "kernelspec": {
      "name": "python3",
      "display_name": "Python 3"
    },
    "language_info": {
      "name": "python"
    }
  },
  "cells": [
    {
      "cell_type": "markdown",
      "source": [
        "Question no 14 "
      ],
      "metadata": {
        "id": "xkb9E9-DXzK6"
      }
    },
    {
      "cell_type": "code",
      "source": [
        "num = int(input(\"Enter a number: \"))\n",
        "mod = num % 2\n",
        "if mod > 0:\n",
        "    print(\"This is an odd number.\")\n",
        "else:\n",
        "    print(\"This is an even number.\")"
      ],
      "metadata": {
        "colab": {
          "base_uri": "https://localhost:8080/"
        },
        "id": "xKhWLgehVmZF",
        "outputId": "3d4febb2-082a-4ff2-ddc3-2ffaa091d131"
      },
      "execution_count": null,
      "outputs": [
        {
          "output_type": "stream",
          "name": "stdout",
          "text": [
            "Enter a number: 1\n",
            "This is an odd number.\n"
          ]
        }
      ]
    },
    {
      "cell_type": "markdown",
      "source": [
        "Qustion no 15 "
      ],
      "metadata": {
        "id": "iZylmWQbavtB"
      }
    },
    {
      "cell_type": "code",
      "source": [
        "numr=int(input(\"Enter range:\"))\n",
        "\n",
        "print(\"Prime numbers:\",end=' ')\n",
        "\n",
        "for n in range(1,numr):\n",
        "\n",
        "    for i in range(2,n):\n",
        "\n",
        "        if(n%i==0):\n",
        "\n",
        "            break\n",
        "\n",
        "    else:\n",
        "\n",
        "        print(n,end=' ')        "
      ],
      "metadata": {
        "colab": {
          "base_uri": "https://localhost:8080/"
        },
        "id": "vil3GcH1coG_",
        "outputId": "7ca2fc3d-7a74-4baf-a7bb-41259b3f2f53"
      },
      "execution_count": null,
      "outputs": [
        {
          "output_type": "stream",
          "name": "stdout",
          "text": [
            "Enter range:50\n",
            "Prime numbers: 1 2 3 5 7 11 13 17 19 23 29 31 37 41 43 47 "
          ]
        }
      ]
    },
    {
      "cell_type": "markdown",
      "source": [
        "QUESTION NO 17 FIND THE SMALLEST NUM AMONG 3"
      ],
      "metadata": {
        "id": "vnTQ9ik9vUW4"
      }
    },
    {
      "cell_type": "code",
      "source": [
        "num1= int(input(\"enter 1st num. \"))\n",
        "num2= int(input(\"enter 2nd num. \"))\n",
        "num3= int(input(\"enter 3rd num. \"))\n",
        "if (num1 <= num2 ) or (num1<= num3):\n",
        "snum = num1\n",
        "elif(num2 <= num1) (num2 < = num3):\n",
        "snum = num2\n",
        "else:\n",
        "snum = num3\n",
        "print(\"the smallest num amoung \", num1 , \" \" , num2, \" \", \"and\", num3, is: \" ,snum)"
      ],
      "metadata": {
        "id": "kvEE7A0-vSir",
        "colab": {
          "base_uri": "https://localhost:8080/",
          "height": 130
        },
        "outputId": "d6a0333c-a9f4-4c2d-92cd-3cdabab6951a"
      },
      "execution_count": null,
      "outputs": [
        {
          "output_type": "error",
          "ename": "IndentationError",
          "evalue": "ignored",
          "traceback": [
            "\u001b[0;36m  File \u001b[0;32m\"<ipython-input-2-45b4b3ead56e>\"\u001b[0;36m, line \u001b[0;32m5\u001b[0m\n\u001b[0;31m    snum = num1\u001b[0m\n\u001b[0m       ^\u001b[0m\n\u001b[0;31mIndentationError\u001b[0m\u001b[0;31m:\u001b[0m expected an indented block\n"
          ]
        }
      ]
    },
    {
      "cell_type": "markdown",
      "source": [
        "Question no 18"
      ],
      "metadata": {
        "id": "Vn591VoaloCu"
      }
    },
    {
      "cell_type": "code",
      "source": [
        "print(pow(2,3))\n"
      ],
      "metadata": {
        "id": "X6BGBo0aejtJ",
        "colab": {
          "base_uri": "https://localhost:8080/"
        },
        "outputId": "38df1e0e-b3de-4239-f6f7-585ba436a707"
      },
      "execution_count": null,
      "outputs": [
        {
          "output_type": "stream",
          "name": "stdout",
          "text": [
            "8\n"
          ]
        }
      ]
    },
    {
      "cell_type": "code",
      "source": [
        "print(pow(2,4))"
      ],
      "metadata": {
        "colab": {
          "base_uri": "https://localhost:8080/"
        },
        "id": "qltQtNbClciG",
        "outputId": "cee22a3a-5add-4a8a-a99c-aa7d318ca089"
      },
      "execution_count": null,
      "outputs": [
        {
          "output_type": "stream",
          "name": "stdout",
          "text": [
            "16\n"
          ]
        }
      ]
    },
    {
      "cell_type": "markdown",
      "source": [
        "QUESTION NO 21"
      ],
      "metadata": {
        "id": "LeViNTaeoyA6"
      }
    },
    {
      "cell_type": "code",
      "source": [
        "import math\n",
        "print(math.sqrt(2)) "
      ],
      "metadata": {
        "colab": {
          "base_uri": "https://localhost:8080/"
        },
        "id": "DLuzjAARoCzO",
        "outputId": "9fba64fd-69ce-4f53-c08b-7bc78ae36bf1"
      },
      "execution_count": null,
      "outputs": [
        {
          "output_type": "stream",
          "name": "stdout",
          "text": [
            "1.4142135623730951\n"
          ]
        }
      ]
    },
    {
      "cell_type": "markdown",
      "source": [
        "Question no 20"
      ],
      "metadata": {
        "id": "gUxhBF-lqg0p"
      }
    },
    {
      "cell_type": "code",
      "source": [
        "import math\n",
        "a = 10\n",
        "print(pow(a, 3))"
      ],
      "metadata": {
        "colab": {
          "base_uri": "https://localhost:8080/"
        },
        "id": "WdegaKOBq0Wb",
        "outputId": "628018ea-a447-40b2-bceb-a1c5f7f58545"
      },
      "execution_count": null,
      "outputs": [
        {
          "output_type": "stream",
          "name": "stdout",
          "text": [
            "1000\n"
          ]
        }
      ]
    },
    {
      "cell_type": "markdown",
      "source": [
        "Questions no 19"
      ],
      "metadata": {
        "id": "IEP3yLyW-2Px"
      }
    },
    {
      "cell_type": "markdown",
      "source": [
        "Question no 20:"
      ],
      "metadata": {
        "id": "yhGplutYKj2k"
      }
    },
    {
      "cell_type": "markdown",
      "source": [
        ""
      ],
      "metadata": {
        "id": "BZutWXQeKnuo"
      }
    },
    {
      "cell_type": "code",
      "source": [
        "n=int(input(\"Enter a number :\"))\n",
        "s=n**2\n",
        "print(\"square of {} is {} \" .format(n,s))"
      ],
      "metadata": {
        "colab": {
          "base_uri": "https://localhost:8080/"
        },
        "id": "9XEh8KguJWw_",
        "outputId": "e44285d5-7107-4e8d-a1db-560d3afe69e5"
      },
      "execution_count": null,
      "outputs": [
        {
          "output_type": "stream",
          "name": "stdout",
          "text": [
            "Enter a number :5\n",
            "square of 5 is 25 \n"
          ]
        }
      ]
    },
    {
      "cell_type": "markdown",
      "source": [
        "Qustion no 22"
      ],
      "metadata": {
        "id": "ySOO_R1WK7Ej"
      }
    },
    {
      "cell_type": "code",
      "source": [
        "dec=int(input(\"Enter a decimal number: \"))\n",
        "print(bin(dec),\" in binary.\")"
      ],
      "metadata": {
        "id": "5S4OKxImYgnB",
        "colab": {
          "base_uri": "https://localhost:8080/"
        },
        "outputId": "90adb41e-1cd0-4900-a80b-a6d4979b7db0"
      },
      "execution_count": null,
      "outputs": [
        {
          "output_type": "stream",
          "name": "stdout",
          "text": [
            "Enter a decimal number: 5\n",
            "0b101  in binary.\n"
          ]
        }
      ]
    },
    {
      "cell_type": "markdown",
      "source": [
        "CONVERT DECIMAL NUM IN OCTAL NUM:"
      ],
      "metadata": {
        "id": "36hk9O0ie_cH"
      }
    },
    {
      "cell_type": "code",
      "source": [
        "dec=int(input(\"Enter a dec number: \"))\n",
        "print(oct(dec),\" in octal.\")"
      ],
      "metadata": {
        "colab": {
          "base_uri": "https://localhost:8080/"
        },
        "id": "8Vp9nEbkcSkP",
        "outputId": "9b44b324-7d6d-4040-d0d8-80e0cbdacb3c"
      },
      "execution_count": null,
      "outputs": [
        {
          "output_type": "stream",
          "name": "stdout",
          "text": [
            "Enter a dec number: 5\n",
            "0o5  in octal.\n"
          ]
        }
      ]
    },
    {
      "cell_type": "markdown",
      "source": [
        "question 24 TO CHECK THE LEAP YEAR OR NOT:"
      ],
      "metadata": {
        "id": "M_sF2kX7e9_K"
      }
    },
    {
      "cell_type": "code",
      "source": [
        "year = int(input(\"Enter Year: \"))\n",
        "\n",
        "# Leap Year Check\n",
        "if year % 4 == 0 and year % 100 != 0:\n",
        "    print(year, \"is a Leap Year\")\n",
        "elif year % 100 == 0:\n",
        "    print(year, \"is not a Leap Year\")\n",
        "elif year % 400 ==0:\n",
        "    print(year, \"is a Leap Year\")\n",
        "else:\n",
        "    print(year, \"is not a Leap Year\")\n"
      ],
      "metadata": {
        "colab": {
          "base_uri": "https://localhost:8080/"
        },
        "id": "BOTceNIpio9n",
        "outputId": "9baaece2-d8dc-4b03-e429-dfc57f303c35"
      },
      "execution_count": null,
      "outputs": [
        {
          "output_type": "stream",
          "name": "stdout",
          "text": [
            "Enter Year: 2022\n",
            "2022 is not a Leap Year\n"
          ]
        }
      ]
    },
    {
      "cell_type": "markdown",
      "source": [
        "\n",
        "\n",
        "```\n",
        "# This is formatted as code\n",
        "```\n",
        "\n",
        "QUESTION NO 26 CELCIUS CONVERT INTO FARENHEIT"
      ],
      "metadata": {
        "id": "nlNPvXHbp56o"
      }
    },
    {
      "cell_type": "code",
      "source": [
        "celsius = float(input(\"Enter temperature in celsius: \")) \n",
        "fahrenheit = (celsius * 1.8) + 32 \n",
        "print('%0.1f celsius = %0.1f Fahrenheit' % (celsius, fahrenheit))"
      ],
      "metadata": {
        "colab": {
          "base_uri": "https://localhost:8080/"
        },
        "id": "dUT_V6veps5Z",
        "outputId": "443c76f1-d5de-4ba6-da6a-5ce59e705a2c"
      },
      "execution_count": null,
      "outputs": [
        {
          "output_type": "stream",
          "name": "stdout",
          "text": [
            "Enter temperature in celsius: 101\n",
            "101.0 celsius = 213.8 Fahrenheit\n"
          ]
        }
      ]
    },
    {
      "cell_type": "markdown",
      "source": [
        "QUESTION NO 25  FARENHEIT COVERT INTO CELCIUS "
      ],
      "metadata": {
        "id": "EH-fOQsorqSS"
      }
    },
    {
      "cell_type": "code",
      "source": [
        "x=float(input(\"enter a value \"))\n",
        "c = (x-32) *18\n",
        "print(\"the conversion from faranheit to celcius is \" , c )"
      ],
      "metadata": {
        "id": "xkoUB4Nlr1hm",
        "colab": {
          "base_uri": "https://localhost:8080/"
        },
        "outputId": "5a49b773-1c8e-41e4-e0dd-1702a574ffb5"
      },
      "execution_count": null,
      "outputs": [
        {
          "name": "stdout",
          "output_type": "stream",
          "text": [
            "enter a value 98.1\n"
          ]
        }
      ]
    },
    {
      "cell_type": "markdown",
      "source": [
        ""
      ],
      "metadata": {
        "id": "FzgFHPAF3S6X"
      }
    },
    {
      "cell_type": "markdown",
      "source": [
        "Q1:Python program to reverse an integer"
      ],
      "metadata": {
        "id": "sKp8F9U93S_E"
      }
    },
    {
      "cell_type": "code",
      "source": [
        "i= int(input(\"enter no. \"))\n",
        "rev= 0\n",
        "while(i > 0):\n",
        "  rev= (rev * 10 )+i % 10\n",
        "  i=i // 10\n",
        "  print(\"reverse= \", rev)"
      ],
      "metadata": {
        "colab": {
          "base_uri": "https://localhost:8080/"
        },
        "id": "ROLaJ_YB3aQg",
        "outputId": "ef1fd521-ca97-4c30-f5e5-df3d04e8c0cc"
      },
      "execution_count": null,
      "outputs": [
        {
          "output_type": "stream",
          "name": "stdout",
          "text": [
            "enter no. 1234\n",
            "reverse=  4\n",
            "reverse=  43\n",
            "reverse=  432\n",
            "reverse=  4321\n"
          ]
        }
      ]
    },
    {
      "cell_type": "markdown",
      "source": [
        "Q2: Amstong number"
      ],
      "metadata": {
        "id": "FFt6TjSM4bN5"
      }
    },
    {
      "cell_type": "code",
      "source": [
        "x =int(input(\"enter no. \"))\n",
        "temp = number\n",
        "add_sum = 0\n",
        "while temp!=0:\n",
        "    k = temp%10\n",
        "    add_sum +=k*k*k\n",
        "    temp = temp//10\n",
        "if add_sum==number:\n",
        "    print('Armstrong Number')\n",
        "else:\n",
        "    print('Not a Armstrong Number')\n"
      ],
      "metadata": {
        "colab": {
          "base_uri": "https://localhost:8080/"
        },
        "id": "Y9B22CsF6Y-t",
        "outputId": "b7d5f9ab-9a23-44b7-d625-ee411d5a6125"
      },
      "execution_count": null,
      "outputs": [
        {
          "output_type": "stream",
          "name": "stdout",
          "text": [
            "enter no. 153\n",
            "Armstrong Number\n"
          ]
        }
      ]
    },
    {
      "cell_type": "markdown",
      "source": [
        "Question no 3"
      ],
      "metadata": {
        "id": "YEC2bf_xFOVO"
      }
    },
    {
      "cell_type": "code",
      "source": [
        "# Python program to check if\n",
        "# given number is prime or not\n",
        "  \n",
        "num = int(input(\"enter no, \"))\n",
        "  \n",
        "# If given number is greater than 1\n",
        "if num > 1:\n",
        "  \n",
        "    # Iterate from 2 to n / 2\n",
        "    for i in range(2, int(num/2)+1):\n",
        "  \n",
        "        # If num is divisible by any number between\n",
        "        # 2 and n / 2, it is not prime\n",
        "        if (num % i) == 0:\n",
        "            print(num, \"is not a prime number\")\n",
        "            break\n",
        "    else:\n",
        "        print(num, \"is a prime number\")\n",
        "  \n",
        "else:\n",
        "    print(num, \"is not a prime number\")\n"
      ],
      "metadata": {
        "colab": {
          "base_uri": "https://localhost:8080/"
        },
        "id": "qvleIqdu9weU",
        "outputId": "498aad08-cd6a-4e8d-e6dc-48aeb7304893"
      },
      "execution_count": null,
      "outputs": [
        {
          "output_type": "stream",
          "name": "stdout",
          "text": [
            "enter no, 14\n",
            "14 is not a prime number\n"
          ]
        }
      ]
    },
    {
      "cell_type": "markdown",
      "source": [
        "Question no 6"
      ],
      "metadata": {
        "id": "bOmlOERB-4NM"
      }
    },
    {
      "cell_type": "code",
      "source": [
        "# Python program to find the largest number among the three input numbers\n",
        "# take three numbers from user\n",
        "num1 = float(input(\"Enter first number: \"))\n",
        "num2 = float(input(\"Enter second number: \"))\n",
        "num3 = float(input(\"Enter third number: \"))\n",
        " \n",
        "if (num1 > num2) and (num1 > num3):\n",
        "   largest = num1\n",
        "elif (num2 > num1) and (num2 > num3):\n",
        "   largest = num2\n",
        "else:\n",
        "   largest = num3\n",
        " \n",
        "print(\"The largest number is\",largest)"
      ],
      "metadata": {
        "colab": {
          "base_uri": "https://localhost:8080/"
        },
        "id": "Yr8pa9W3986B",
        "outputId": "1e2ed84c-5e50-4c5d-dc5e-3f04d4d7d70d"
      },
      "execution_count": null,
      "outputs": [
        {
          "output_type": "stream",
          "name": "stdout",
          "text": [
            "Enter first number: 1\n",
            "Enter second number: 4\n",
            "Enter third number: 6\n",
            "The largest number is 6.0\n"
          ]
        }
      ]
    },
    {
      "cell_type": "markdown",
      "source": [
        "QUESTION NO 6 CHECK BINARY NUM OR NOT"
      ],
      "metadata": {
        "id": "m8pABXsRCNDC"
      }
    },
    {
      "cell_type": "code",
      "source": [
        "num = int(input(\"please give a number : \"))\n",
        "while(num>0):\n",
        "    j=num%10\n",
        "    if j!=0 and j!=1:\n",
        "        print(\"num is not binary\")\n",
        "        break\n",
        "    num=num//10\n",
        "    if num==0:\n",
        "        print(\"num is binary\") \n"
      ],
      "metadata": {
        "colab": {
          "base_uri": "https://localhost:8080/"
        },
        "id": "04PLP6n9B_r3",
        "outputId": "78286582-af1d-4d78-e505-af691961f2c1"
      },
      "execution_count": null,
      "outputs": [
        {
          "output_type": "stream",
          "name": "stdout",
          "text": [
            "please give a number : 010\n",
            "num is binary\n"
          ]
        }
      ]
    },
    {
      "cell_type": "markdown",
      "source": [
        "QUESTION NO 8 \n",
        "SUM OF DIGITS"
      ],
      "metadata": {
        "id": "hBL9i9TtCWVg"
      }
    },
    {
      "cell_type": "code",
      "source": [
        "a=(2, 4 , 8 , 2)\n",
        "x=sum(a )\n",
        "print(x)"
      ],
      "metadata": {
        "colab": {
          "base_uri": "https://localhost:8080/"
        },
        "id": "t3GS7tn-EhzU",
        "outputId": "0b365531-001a-4a36-9239-8fbeac549d91"
      },
      "execution_count": null,
      "outputs": [
        {
          "output_type": "stream",
          "name": "stdout",
          "text": [
            "16\n"
          ]
        }
      ]
    },
    {
      "cell_type": "code",
      "source": [
        "Question 9"
      ],
      "metadata": {
        "id": "IgEmNfcQCAYS"
      },
      "execution_count": null,
      "outputs": []
    },
    {
      "cell_type": "code",
      "source": [
        "x= int(input(\"enter value  for swapping:\"))\n",
        "y=int(input(\"enter value for swapping:\"))\n",
        "print(\"value before swapping :\")\n",
        "print(\"value of x: \",x ,\"Value of y: \", y)\n",
        "x , y = y, x\n",
        "print(\"value after swapping:\")\n",
        "print(\" value of x: \", x, \"Value of  y: \", y)"
      ],
      "metadata": {
        "colab": {
          "base_uri": "https://localhost:8080/"
        },
        "id": "PlWgaHcsiGAv",
        "outputId": "4bc05d99-5dc8-423d-de2f-d72aaa385983"
      },
      "execution_count": null,
      "outputs": [
        {
          "output_type": "stream",
          "name": "stdout",
          "text": [
            "enter value  for swapping:23\n",
            "enter value for swapping:45\n",
            "value before swapping :\n",
            "value of x:  23 Value of y:  45\n",
            "value after swapping:\n",
            " value of x:  45 Value of  y:  23\n"
          ]
        }
      ]
    },
    {
      "cell_type": "code",
      "source": [
        "x= int(input(\"enter value  for swapping:\"))\n",
        "y=int(input(\"enter value for swapping:\"))\n",
        "print(\"Value before swapping :\")\n",
        "print(\"Value of x: \",x ,\"Value of y:\" , y)\n",
        "z = y, x\n",
        "print(\"Value after swapping:\")\n",
        "print(\"Value of z:\",z)"
      ],
      "metadata": {
        "colab": {
          "base_uri": "https://localhost:8080/"
        },
        "id": "NaFZ_AhVGO7R",
        "outputId": "b1254eff-186e-402e-e137-23b8f85021c6"
      },
      "execution_count": null,
      "outputs": [
        {
          "output_type": "stream",
          "name": "stdout",
          "text": [
            "enter value  for swapping:23\n",
            "enter value for swapping:67\n",
            "Value before swapping :\n",
            "Value of x:  23 Value of y: 67\n",
            "Value after swapping:\n",
            "Value of z: (67, 23)\n"
          ]
        }
      ]
    },
    {
      "cell_type": "code",
      "source": [
        ""
      ],
      "metadata": {
        "id": "jc3mIqJJ6UpW"
      },
      "execution_count": null,
      "outputs": []
    }
  ]
}